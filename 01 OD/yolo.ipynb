{
 "cells": [
  {
   "cell_type": "code",
   "execution_count": null,
   "metadata": {},
   "outputs": [
    {
     "name": "stdout",
     "output_type": "stream",
     "text": [
      "Downloading https://d307kc0mrhucc3.cloudfront.net/train_labels.zip to '.xView\\train_labels.zip'...\n",
      " Download failure, retrying 1/3 https://d307kc0mrhucc3.cloudfront.net/train_labels.zip...\n",
      "Downloading https://d307kc0mrhucc3.cloudfront.net/train_images.zip to '.xView\\train_images.zip'...\n",
      " Download failure, retrying 1/3 https://d307kc0mrhucc3.cloudfront.net/train_images.zip...\n",
      "Downloading https://d307kc0mrhucc3.cloudfront.net/val_images.zip to '.xView\\val_images.zip'...\n",
      " Download failure, retrying 1/3 https://d307kc0mrhucc3.cloudfront.net/val_images.zip...\n"
     ]
    },
    {
     "ename": "TypeError",
     "evalue": "unsupported operand type(s) for /: 'str' and 'str'",
     "output_type": "error",
     "traceback": [
      "\u001b[1;31m---------------------------------------------------------------------------\u001b[0m",
      "\u001b[1;31mTypeError\u001b[0m                                 Traceback (most recent call last)",
      "Cell \u001b[1;32mIn[3], line 69\u001b[0m\n\u001b[0;32m     66\u001b[0m downloads\u001b[38;5;241m.\u001b[39mdownload(urls, \u001b[38;5;28mdir\u001b[39m\u001b[38;5;241m=\u001b[39m\u001b[38;5;28mdir\u001b[39m)\n\u001b[0;32m     68\u001b[0m \u001b[38;5;66;03m# Convert labels\u001b[39;00m\n\u001b[1;32m---> 69\u001b[0m convert_labels(\u001b[38;5;28;43mdir\u001b[39;49m\u001b[43m \u001b[49m\u001b[38;5;241;43m/\u001b[39;49m\u001b[43m \u001b[49m\u001b[38;5;124;43m'\u001b[39;49m\u001b[38;5;124;43mxView_train.geojson\u001b[39;49m\u001b[38;5;124;43m'\u001b[39;49m)\n\u001b[0;32m     71\u001b[0m \u001b[38;5;66;03m# Move images\u001b[39;00m\n\u001b[0;32m     72\u001b[0m images \u001b[38;5;241m=\u001b[39m Path(\u001b[38;5;28mdir\u001b[39m \u001b[38;5;241m/\u001b[39m \u001b[38;5;124m'\u001b[39m\u001b[38;5;124mimages\u001b[39m\u001b[38;5;124m'\u001b[39m)\n",
      "\u001b[1;31mTypeError\u001b[0m: unsupported operand type(s) for /: 'str' and 'str'"
     ]
    }
   ],
   "source": [
    "import json\n",
    "import os\n",
    "from pathlib import Path\n",
    "\n",
    "import numpy as np\n",
    "from PIL import Image\n",
    "from tqdm import tqdm\n",
    "\n",
    "from ultralytics.data.utils import autosplit\n",
    "from ultralytics.utils.ops import xyxy2xywhn\n",
    "from ultralytics.utils import downloads\n",
    "from ultralytics.utils import yaml\n",
    "\n",
    "\n",
    "\n",
    "def convert_labels(fname=Path('xView/xView_train.geojson')):\n",
    "    # Convert xView geoJSON labels to YOLO format\n",
    "    path = fname.parent\n",
    "    with open(fname) as f:\n",
    "        print(f'Loading {fname}...')\n",
    "        data = json.load(f)\n",
    "\n",
    "    # Make dirs\n",
    "    labels = Path(path / 'labels' / 'train')\n",
    "    os.system(f'rm -rf {labels}')\n",
    "    labels.mkdir(parents=True, exist_ok=True)\n",
    "\n",
    "    # xView classes 11-94 to 0-59\n",
    "    xview_class2index = [-1, -1, -1, -1, -1, -1, -1, -1, -1, -1, -1, 0, 1, 2, -1, 3, -1, 4, 5, 6, 7, 8, -1, 9, 10, 11,\n",
    "                        12, 13, 14, 15, -1, -1, 16, 17, 18, 19, 20, 21, 22, -1, 23, 24, 25, -1, 26, 27, -1, 28, -1,\n",
    "                        29, 30, 31, 32, 33, 34, 35, 36, 37, -1, 38, 39, 40, 41, 42, 43, 44, 45, -1, -1, -1, -1, 46,\n",
    "                        47, 48, 49, -1, 50, 51, -1, 52, -1, -1, -1, 53, 54, -1, 55, -1, -1, 56, -1, 57, -1, 58, 59]\n",
    "\n",
    "    shapes = {}\n",
    "    for feature in tqdm(data['features'], desc=f'Converting {fname}'):\n",
    "        p = feature['properties']\n",
    "        if p['bounds_imcoords']:\n",
    "            id = p['image_id']\n",
    "            file = path / 'train_images' / id\n",
    "            if file.exists():  # 1395.tif missing\n",
    "                try:\n",
    "                    box = np.array([int(num) for num in p['bounds_imcoords'].split(\",\")])\n",
    "                    assert box.shape[0] == 4, f'incorrect box shape {box.shape[0]}'\n",
    "                    cls = p['type_id']\n",
    "                    cls = xview_class2index[int(cls)]  # xView class to 0-60\n",
    "                    assert 59 >= cls >= 0, f'incorrect class index {cls}'\n",
    "\n",
    "                    # Write YOLO label\n",
    "                    if id not in shapes:\n",
    "                        shapes[id] = Image.open(file).size\n",
    "                    box = xyxy2xywhn(box[None].astype(np.float), w=shapes[id][0], h=shapes[id][1], clip=True)\n",
    "                    with open((labels / id).with_suffix('.txt'), 'a') as f:\n",
    "                        f.write(f\"{cls} {' '.join(f'{x:.6f}' for x in box[0])}\\n\")  # write label.txt\n",
    "                except Exception as e:\n",
    "                    print(f'WARNING: skipping one label for {file}: {e}')\n",
    "\n",
    "\n",
    "# Download manually from https://challenge.xviewdataset.org\n",
    "# yaml_data = yaml.load('yolo.yaml')\n",
    "# dir = Path(yaml)  # dataset root dir\n",
    "# ../datasets/xViewd\n",
    "dir = Path('.xView/')\n",
    "urls = ['https://d307kc0mrhucc3.cloudfront.net/train_labels.zip',  # train labels\n",
    "        'https://d307kc0mrhucc3.cloudfront.net/train_images.zip',  # 15G, 847 train images\n",
    "        'https://d307kc0mrhucc3.cloudfront.net/val_images.zip']  # 5G, 282 val images (no labels)\n",
    "downloads.download(urls, dir=dir)\n",
    "\n",
    "# Convert labels\n",
    "convert_labels(dir / 'xView_train.geojson')\n",
    "\n",
    "# Move images\n",
    "images = Path(dir / 'images')\n",
    "images.mkdir(parents=True, exist_ok=True)\n",
    "Path(dir / 'train_images').rename(dir / 'images' / 'train')\n",
    "Path(dir / 'val_images').rename(dir / 'images' / 'val')\n",
    "\n",
    "# Split\n",
    "autosplit(dir / 'images' / 'train')"
   ]
  },
  {
   "cell_type": "code",
   "execution_count": null,
   "metadata": {},
   "outputs": [],
   "source": []
  }
 ],
 "metadata": {
  "kernelspec": {
   "display_name": "tensorflow",
   "language": "python",
   "name": "python3"
  },
  "language_info": {
   "codemirror_mode": {
    "name": "ipython",
    "version": 3
   },
   "file_extension": ".py",
   "mimetype": "text/x-python",
   "name": "python",
   "nbconvert_exporter": "python",
   "pygments_lexer": "ipython3",
   "version": "3.10.14"
  }
 },
 "nbformat": 4,
 "nbformat_minor": 2
}
